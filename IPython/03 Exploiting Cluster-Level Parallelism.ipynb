{
 "metadata": {
  "name": "03 Exploiting Cluster-Level Parallelism"
 },
 "nbformat": 3,
 "nbformat_minor": 0,
 "worksheets": [
  {
   "cells": [
    {
     "cell_type": "markdown",
     "metadata": {},
     "source": [
      "# Exploiting Cluster-Level Parallelism\n",
      "\n",
      "The purpose of this code is to demonstrate the cluster-level parallelism capabilities available in IPython. To demonstrate this, we compute 8 Gabor filter responses for each image in a given directory in parallel."
     ]
    },
    {
     "cell_type": "code",
     "collapsed": false,
     "input": [
      "import numpy\n",
      "import math\n",
      "import scipy\n",
      "import scipy.io\n",
      "import scipy.misc\n",
      "import matplotlib\n",
      "import matplotlib.pyplot\n",
      "import os\n",
      "import IPython\n",
      "import IPython.parallel"
     ],
     "language": "python",
     "metadata": {},
     "outputs": [],
     "prompt_number": 9
    },
    {
     "cell_type": "markdown",
     "metadata": {},
     "source": [
      "## load the Gabor filters and store in a 3D array"
     ]
    },
    {
     "cell_type": "code",
     "collapsed": false,
     "input": [
      "num_thetas  = 8\n",
      "filter_path = \"filters/\"\n",
      "\n",
      "tmp = []\n",
      "\n",
      "for theta_index in range(num_thetas):\n",
      "    \n",
      "    current_g_mat = scipy.io.loadmat(filter_path+\"theta=%02d.mat\" % theta_index)\n",
      "    current_g     = current_g_mat[\"g\"]\n",
      "    \n",
      "    tmp.append(current_g)\n",
      "\n",
      "g = numpy.array(tmp)\n",
      "\n",
      "print g.shape"
     ],
     "language": "python",
     "metadata": {},
     "outputs": [
      {
       "output_type": "stream",
       "stream": "stdout",
       "text": [
        "(8, 512, 512)\n"
       ]
      }
     ],
     "prompt_number": 10
    },
    {
     "cell_type": "markdown",
     "metadata": {},
     "source": [
      "## construct an array of image file names (each compute node will be responsible for processing a single file)"
     ]
    },
    {
     "cell_type": "code",
     "collapsed": false,
     "input": [
      "img_path             = \"renderings/\"\n",
      "filter_response_path = \"filter_responses/\"\n",
      "img_names_exts       = sorted(os.listdir(img_path))[:14]\n",
      "\n",
      "print img_names_exts\n",
      "\n",
      "if not os.path.exists(filter_response_path):\n",
      "    os.makedirs(filter_response_path)"
     ],
     "language": "python",
     "metadata": {},
     "outputs": [
      {
       "output_type": "stream",
       "stream": "stdout",
       "text": [
        "['latitude=01.longitude=00.png', 'latitude=01.longitude=01.png', 'latitude=01.longitude=02.png', 'latitude=01.longitude=03.png', 'latitude=01.longitude=04.png', 'latitude=01.longitude=05.png', 'latitude=01.longitude=06.png', 'latitude=01.longitude=07.png', 'latitude=01.longitude=08.png', 'latitude=01.longitude=09.png', 'latitude=01.longitude=10.png', 'latitude=01.longitude=11.png', 'latitude=01.longitude=12.png', 'latitude=01.longitude=13.png']\n"
       ]
      }
     ],
     "prompt_number": 22
    },
    {
     "cell_type": "markdown",
     "metadata": {},
     "source": [
      "## define a function to process a single file"
     ]
    },
    {
     "cell_type": "code",
     "collapsed": false,
     "input": [
      "def generate_gabor_filter_response(img_name_ext):\n",
      "    \n",
      "    import numpy\n",
      "    import scipy\n",
      "    import scipy.io\n",
      "    import scipy.misc\n",
      "    import os\n",
      "\n",
      "    img_name = img_name_ext[:-4]\n",
      "    img_ext  = img_name_ext[-4:]\n",
      "    \n",
      "    img = scipy.misc.imread(img_path+img_name+img_ext).astype(numpy.float32)[:,:,0]\n",
      "    img = (255.0 - img) / 255.0\n",
      "    \n",
      "    for theta_index in range(num_thetas):\n",
      "        \n",
      "        F_img = numpy.fft.fft2(img)\n",
      "        F_img_centered = numpy.fft.fftshift(F_img)\n",
      "        F_img_centered_filtered = F_img_centered * g[theta_index]\n",
      "        F_img_centered_filtered_uncentered = numpy.fft.ifftshift(F_img_centered_filtered)\n",
      "        img_filtered = numpy.fft.ifft2(F_img_centered_filtered_uncentered)\n",
      "        \n",
      "        scipy.misc.imsave(\"%s%s.gabor.theta=%02d.png\" % (filter_response_path, img_name, theta_index), numpy.abs(img_filtered))\n",
      "        \n",
      "        print \"%s%s.gabor.theta=%02d.png\" % (filter_response_path, img_name, theta_index)\n",
      "        \n",
      "    return os.getpid()"
     ],
     "language": "python",
     "metadata": {},
     "outputs": [],
     "prompt_number": 23
    },
    {
     "cell_type": "markdown",
     "metadata": {},
     "source": [
      "## verify that our function works for a single input image"
     ]
    },
    {
     "cell_type": "code",
     "collapsed": false,
     "input": [
      "generate_gabor_filter_response(img_names_exts[0])"
     ],
     "language": "python",
     "metadata": {},
     "outputs": [
      {
       "output_type": "stream",
       "stream": "stdout",
       "text": [
        "filter_responses/latitude=01.longitude=00.gabor.theta=00.png\n",
        "filter_responses/latitude=01.longitude=00.gabor.theta=01.png"
       ]
      },
      {
       "output_type": "stream",
       "stream": "stdout",
       "text": [
        "\n",
        "filter_responses/latitude=01.longitude=00.gabor.theta=02.png"
       ]
      },
      {
       "output_type": "stream",
       "stream": "stdout",
       "text": [
        "\n",
        "filter_responses/latitude=01.longitude=00.gabor.theta=03.png"
       ]
      },
      {
       "output_type": "stream",
       "stream": "stdout",
       "text": [
        "\n",
        "filter_responses/latitude=01.longitude=00.gabor.theta=04.png"
       ]
      },
      {
       "output_type": "stream",
       "stream": "stdout",
       "text": [
        "\n",
        "filter_responses/latitude=01.longitude=00.gabor.theta=05.png"
       ]
      },
      {
       "output_type": "stream",
       "stream": "stdout",
       "text": [
        "\n",
        "filter_responses/latitude=01.longitude=00.gabor.theta=06.png"
       ]
      },
      {
       "output_type": "stream",
       "stream": "stdout",
       "text": [
        "\n",
        "filter_responses/latitude=01.longitude=00.gabor.theta=07.png"
       ]
      },
      {
       "output_type": "stream",
       "stream": "stdout",
       "text": [
        "\n"
       ]
      },
      {
       "output_type": "pyout",
       "prompt_number": 24,
       "text": [
        "90747"
       ]
      }
     ],
     "prompt_number": 24
    },
    {
     "cell_type": "markdown",
     "metadata": {},
     "source": [
      "## distribute computation across all available compute nodes"
     ]
    },
    {
     "cell_type": "code",
     "collapsed": false,
     "input": [
      "#\n",
      "# before running this cell, make sure to type \"ipcluster start -n 4\" (without the quotes) from the commandline\n",
      "#\n",
      "\n",
      "#\n",
      "# simplest method of accessing the compute nodes in an IPython cluster\n",
      "#\n",
      "client = IPython.parallel.Client()\n",
      "directView = client[:]\n",
      "\n",
      "#\n",
      "# our function depends on global variables, so we need to set these explicitly\n",
      "#\n",
      "directView[\"num_thetas\"]           = num_thetas\n",
      "directView[\"img_path\"]             = img_path\n",
      "directView[\"filter_response_path\"] = filter_response_path\n",
      "directView[\"g\"]                    = g\n",
      "\n",
      "#\n",
      "# call our generate_gabor_filter_response(...) function for each element of the img_names_exts array in parallel - return asynchronously\n",
      "#\n",
      "asyncResult = directView.map_async(generate_gabor_filter_response, img_names_exts)\n",
      "\n",
      "#\n",
      "# verify that we have returned immediately\n",
      "#\n",
      "os.system(\"touch test_if_map_async_actually_returns_asynchronously\")\n",
      "\n",
      "#\n",
      "# wait for all compute nodes to finish processing\n",
      "#\n",
      "asyncResult.wait()\n",
      "print asyncResult.successful()\n",
      "\n",
      "#\n",
      "# print the return value from each compute node\n",
      "#\n",
      "result = asyncResult.get()\n",
      "print result"
     ],
     "language": "python",
     "metadata": {},
     "outputs": [
      {
       "output_type": "stream",
       "stream": "stdout",
       "text": [
        "True\n",
        "[90658, 90658, 90658, 90658, 90659, 90659, 90659, 90659, 90660, 90660, 90660, 90661, 90661, 90661]\n"
       ]
      }
     ],
     "prompt_number": 27
    }
   ],
   "metadata": {}
  }
 ]
}