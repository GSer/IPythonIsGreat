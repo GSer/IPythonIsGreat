{
 "metadata": {
  "name": "05 Using Qt from within IPython"
 },
 "nbformat": 3,
 "nbformat_minor": 0,
 "worksheets": [
  {
   "cells": [
    {
     "cell_type": "markdown",
     "metadata": {},
     "source": [
      "# Using Qt from within IPython\n",
      "\n",
      "The purpose of this code is to demonstrate how to use Qt from within IPython."
     ]
    },
    {
     "cell_type": "code",
     "collapsed": false,
     "input": [
      "import sys\n",
      "import PySide\n",
      "import PySide.QtCore\n",
      "import PySide.QtGui\n",
      "import PySide.QtUiTools"
     ],
     "language": "python",
     "metadata": {},
     "outputs": [],
     "prompt_number": 1
    },
    {
     "cell_type": "code",
     "collapsed": false,
     "input": [
      "application = PySide.QtGui.QApplication(sys.argv)\n",
      "\n",
      "label = PySide.QtGui.QLabel(\"Hello World\")\n",
      "label.show()\n",
      "\n",
      "application.exec_()"
     ],
     "language": "python",
     "metadata": {},
     "outputs": [
      {
       "output_type": "pyout",
       "prompt_number": 2,
       "text": [
        "0"
       ]
      }
     ],
     "prompt_number": 2
    }
   ],
   "metadata": {}
  }
 ]
}